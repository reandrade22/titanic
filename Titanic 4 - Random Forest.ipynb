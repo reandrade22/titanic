{
 "cells": [
  {
   "cell_type": "markdown",
   "metadata": {},
   "source": [
    "# Baseline Model\n",
    "---\n",
    "Antes de começar a experimentar com modelos mais complexos, é válido estabelecer um baseline de resultado. Normalmente opta-se por um modelo simples, como uma árvore de decisão ou regressão logística. Este ultime será utilizado neste notebook."
   ]
  },
  {
   "cell_type": "code",
   "execution_count": 1,
   "metadata": {},
   "outputs": [],
   "source": [
    "#Imports\n",
    "import pandas as pd \n",
    "import numpy as np\n",
    "\n",
    "from copy import deepcopy\n",
    "\n",
    "from data_treatment import treat_train_data, treat_test_data\n",
    "\n",
    "from sklearn.model_selection import StratifiedKFold\n",
    "from sklearn.model_selection import ParameterSampler\n",
    "\n",
    "from sklearn.ensemble import RandomForestClassifier"
   ]
  },
  {
   "cell_type": "code",
   "execution_count": 2,
   "metadata": {},
   "outputs": [],
   "source": [
    "#Load data \n",
    "train_data_path = \"./data/train.csv\"\n",
    "test_data_path = \"./data/test.csv\"\n",
    "\n",
    "train_df = pd.read_csv(train_data_path)\n",
    "test_df = pd.read_csv(test_data_path)"
   ]
  },
  {
   "cell_type": "code",
   "execution_count": 3,
   "metadata": {},
   "outputs": [
    {
     "name": "stdout",
     "output_type": "stream",
     "text": [
      "(891, 12)\n",
      "(891, 11) (891,)\n",
      "   PassengerId  Pclass                                               Name  \\\n",
      "0            1       3                            Braund, Mr. Owen Harris   \n",
      "1            2       1  Cumings, Mrs. John Bradley (Florence Briggs Th...   \n",
      "2            3       3                             Heikkinen, Miss. Laina   \n",
      "3            4       1       Futrelle, Mrs. Jacques Heath (Lily May Peel)   \n",
      "4            5       3                           Allen, Mr. William Henry   \n",
      "\n",
      "      Sex   Age  SibSp  Parch            Ticket     Fare Cabin Embarked  \n",
      "0    male  22.0      1      0         A/5 21171   7.2500   NaN        S  \n",
      "1  female  38.0      1      0          PC 17599  71.2833   C85        C  \n",
      "2  female  26.0      0      0  STON/O2. 3101282   7.9250   NaN        S  \n",
      "3  female  35.0      1      0            113803  53.1000  C123        S  \n",
      "4    male  35.0      0      0            373450   8.0500   NaN        S  \n"
     ]
    }
   ],
   "source": [
    "#Separate target from features\n",
    "print(train_df.shape)\n",
    "y = train_df[\"Survived\"]\n",
    "X = train_df.drop([\"Survived\"], axis=1)\n",
    "print(X.shape, y.shape)\n",
    "print(X.head())"
   ]
  },
  {
   "cell_type": "code",
   "execution_count": 4,
   "metadata": {},
   "outputs": [],
   "source": [
    "#Define Parameter grid for randomized search\n",
    "param_grid = {'n_estimators': [2, 5, 10, 25, 50, 100, 250, 500, 1000],\n",
    "              'min_samples_leaf': [1, 2, 3, 4, 5, 10],\n",
    "              'max_features': [None, \"sqrt\", \"log2\"]}\n",
    "param_list = list(ParameterSampler(param_grid, n_iter=30))"
   ]
  },
  {
   "cell_type": "code",
   "execution_count": 5,
   "metadata": {},
   "outputs": [
    {
     "name": "stdout",
     "output_type": "stream",
     "text": [
      "Updated best acc: 0.583535423065643\n",
      "Updated best acc: 0.7856735987505439\n",
      "Updated best acc: 0.7992446947233958\n",
      "Updated best acc: 0.812696739150865\n",
      "Updated best acc: 0.8216037594328934\n"
     ]
    }
   ],
   "source": [
    "#Run Stratified kfold\n",
    "skf = StratifiedKFold(n_splits=5)\n",
    "\n",
    "best_conf = None\n",
    "best_acc = 0\n",
    "for param_conf in param_list:\n",
    "    \n",
    "    accs = []\n",
    "    for train_index, test_index in skf.split(deepcopy(X), y):\n",
    "\n",
    "        X_train, X_test = X.loc[train_index], X.loc[test_index]\n",
    "        y_train, y_test = y[train_index], y[test_index]\n",
    "\n",
    "        X_train, treat_params = treat_train_data(X_train)\n",
    "        X_test = treat_test_data(X_test, treat_params)\n",
    "\n",
    "        model = RandomForestClassifier(n_estimators=param_conf[\"n_estimators\"], \n",
    "                                       min_samples_leaf=param_conf[\"min_samples_leaf\"],\n",
    "                                       max_features=param_conf[\"max_features\"]).fit(X_train, y_train)\n",
    "        acc = model.score(X_test, y_test)\n",
    "        accs.append(acc)\n",
    "\n",
    "    if np.mean(accs) > best_acc:\n",
    "        print(\"Updated best acc: %s\" % np.mean(accs))\n",
    "        best_acc = np.mean(accs)\n",
    "        best_conf = param_conf\n",
    "        "
   ]
  },
  {
   "cell_type": "code",
   "execution_count": 6,
   "metadata": {},
   "outputs": [],
   "source": [
    "#After finding best params, retrain model with complete training set\n",
    "\n",
    "#Treat data\n",
    "X, params = treat_train_data(X)\n",
    "X_test = treat_test_data(test_df, params)\n",
    "\n",
    "best_model = RandomForestClassifier(n_estimators=best_conf[\"n_estimators\"], \n",
    "                                    min_samples_leaf=best_conf[\"min_samples_leaf\"],\n",
    "                                    max_features=best_conf[\"max_features\"]).fit(X, y)\n",
    "predictions = best_model.predict(X_test)\n",
    "test_df[\"Survived\"] = np.array(predictions)"
   ]
  },
  {
   "cell_type": "code",
   "execution_count": 7,
   "metadata": {},
   "outputs": [],
   "source": [
    "#Save to csv\n",
    "test_df[[\"PassengerId\", \"Survived\"]].to_csv(\"submission_rf.csv\", index=False)"
   ]
  },
  {
   "cell_type": "code",
   "execution_count": null,
   "metadata": {},
   "outputs": [],
   "source": []
  }
 ],
 "metadata": {
  "kernelspec": {
   "display_name": "Python 3",
   "language": "python",
   "name": "python3"
  },
  "language_info": {
   "codemirror_mode": {
    "name": "ipython",
    "version": 3
   },
   "file_extension": ".py",
   "mimetype": "text/x-python",
   "name": "python",
   "nbconvert_exporter": "python",
   "pygments_lexer": "ipython3",
   "version": "3.7.2"
  }
 },
 "nbformat": 4,
 "nbformat_minor": 2
}
