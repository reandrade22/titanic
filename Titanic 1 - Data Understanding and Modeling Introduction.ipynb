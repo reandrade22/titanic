{
 "cells": [
  {
   "cell_type": "markdown",
   "metadata": {},
   "source": [
    "# Data Understanding and Modeling Introduction\n",
    "---\n",
    "Uma vez definido o problema a ser resolvido, é preciso conhecer o dado. Ao investigar o dataset é possível até mesmo que o problema original seja repensado, uma vez que um conhecimento maior sobre o dado pode faciliar a visualização de novas oportunidades e possíveis deficiências do conjunto.\n",
    "##### Este notebook tem como objetivo explorar os dados fornecidos com o objetivo de prepara-lo para utilização no treinamento de um modelo de machine learning. A exploração do dado indica os tratamentos que devem ser aplicados para o treinamento de tal modelo. Este notebook descreve possíveis formas de tratar este dado antes do treinamento, mas não é uma descrição exaustiva - diferentes abordagens podem ser utilizadas."
   ]
  },
  {
   "cell_type": "markdown",
   "metadata": {},
   "source": [
    "## Análise Geral\n",
    "---"
   ]
  },
  {
   "cell_type": "code",
   "execution_count": 1,
   "metadata": {},
   "outputs": [],
   "source": [
    "#Imports \n",
    "import pandas as pd\n",
    "import seaborn as sns"
   ]
  },
  {
   "cell_type": "code",
   "execution_count": 2,
   "metadata": {},
   "outputs": [],
   "source": [
    "#Load data \n",
    "train_data_path = \"./data/train.csv\"\n",
    "test_data_path = \"./data/test.csv\"\n",
    "\n",
    "train_df = pd.read_csv(train_data_path)\n",
    "test_df = pd.read_csv(test_data_path)"
   ]
  },
  {
   "cell_type": "code",
   "execution_count": 3,
   "metadata": {},
   "outputs": [
    {
     "name": "stdout",
     "output_type": "stream",
     "text": [
      "Train data has 12 columns and 891 rows\n",
      "Train data sample:\n"
     ]
    },
    {
     "data": {
      "text/html": [
       "<div>\n",
       "<style scoped>\n",
       "    .dataframe tbody tr th:only-of-type {\n",
       "        vertical-align: middle;\n",
       "    }\n",
       "\n",
       "    .dataframe tbody tr th {\n",
       "        vertical-align: top;\n",
       "    }\n",
       "\n",
       "    .dataframe thead th {\n",
       "        text-align: right;\n",
       "    }\n",
       "</style>\n",
       "<table border=\"1\" class=\"dataframe\">\n",
       "  <thead>\n",
       "    <tr style=\"text-align: right;\">\n",
       "      <th></th>\n",
       "      <th>PassengerId</th>\n",
       "      <th>Survived</th>\n",
       "      <th>Pclass</th>\n",
       "      <th>Name</th>\n",
       "      <th>Sex</th>\n",
       "      <th>Age</th>\n",
       "      <th>SibSp</th>\n",
       "      <th>Parch</th>\n",
       "      <th>Ticket</th>\n",
       "      <th>Fare</th>\n",
       "      <th>Cabin</th>\n",
       "      <th>Embarked</th>\n",
       "    </tr>\n",
       "  </thead>\n",
       "  <tbody>\n",
       "    <tr>\n",
       "      <th>0</th>\n",
       "      <td>1</td>\n",
       "      <td>0</td>\n",
       "      <td>3</td>\n",
       "      <td>Braund, Mr. Owen Harris</td>\n",
       "      <td>male</td>\n",
       "      <td>22.0</td>\n",
       "      <td>1</td>\n",
       "      <td>0</td>\n",
       "      <td>A/5 21171</td>\n",
       "      <td>7.2500</td>\n",
       "      <td>NaN</td>\n",
       "      <td>S</td>\n",
       "    </tr>\n",
       "    <tr>\n",
       "      <th>1</th>\n",
       "      <td>2</td>\n",
       "      <td>1</td>\n",
       "      <td>1</td>\n",
       "      <td>Cumings, Mrs. John Bradley (Florence Briggs Th...</td>\n",
       "      <td>female</td>\n",
       "      <td>38.0</td>\n",
       "      <td>1</td>\n",
       "      <td>0</td>\n",
       "      <td>PC 17599</td>\n",
       "      <td>71.2833</td>\n",
       "      <td>C85</td>\n",
       "      <td>C</td>\n",
       "    </tr>\n",
       "    <tr>\n",
       "      <th>2</th>\n",
       "      <td>3</td>\n",
       "      <td>1</td>\n",
       "      <td>3</td>\n",
       "      <td>Heikkinen, Miss. Laina</td>\n",
       "      <td>female</td>\n",
       "      <td>26.0</td>\n",
       "      <td>0</td>\n",
       "      <td>0</td>\n",
       "      <td>STON/O2. 3101282</td>\n",
       "      <td>7.9250</td>\n",
       "      <td>NaN</td>\n",
       "      <td>S</td>\n",
       "    </tr>\n",
       "    <tr>\n",
       "      <th>3</th>\n",
       "      <td>4</td>\n",
       "      <td>1</td>\n",
       "      <td>1</td>\n",
       "      <td>Futrelle, Mrs. Jacques Heath (Lily May Peel)</td>\n",
       "      <td>female</td>\n",
       "      <td>35.0</td>\n",
       "      <td>1</td>\n",
       "      <td>0</td>\n",
       "      <td>113803</td>\n",
       "      <td>53.1000</td>\n",
       "      <td>C123</td>\n",
       "      <td>S</td>\n",
       "    </tr>\n",
       "    <tr>\n",
       "      <th>4</th>\n",
       "      <td>5</td>\n",
       "      <td>0</td>\n",
       "      <td>3</td>\n",
       "      <td>Allen, Mr. William Henry</td>\n",
       "      <td>male</td>\n",
       "      <td>35.0</td>\n",
       "      <td>0</td>\n",
       "      <td>0</td>\n",
       "      <td>373450</td>\n",
       "      <td>8.0500</td>\n",
       "      <td>NaN</td>\n",
       "      <td>S</td>\n",
       "    </tr>\n",
       "  </tbody>\n",
       "</table>\n",
       "</div>"
      ],
      "text/plain": [
       "   PassengerId  Survived  Pclass  \\\n",
       "0            1         0       3   \n",
       "1            2         1       1   \n",
       "2            3         1       3   \n",
       "3            4         1       1   \n",
       "4            5         0       3   \n",
       "\n",
       "                                                Name     Sex   Age  SibSp  \\\n",
       "0                            Braund, Mr. Owen Harris    male  22.0      1   \n",
       "1  Cumings, Mrs. John Bradley (Florence Briggs Th...  female  38.0      1   \n",
       "2                             Heikkinen, Miss. Laina  female  26.0      0   \n",
       "3       Futrelle, Mrs. Jacques Heath (Lily May Peel)  female  35.0      1   \n",
       "4                           Allen, Mr. William Henry    male  35.0      0   \n",
       "\n",
       "   Parch            Ticket     Fare Cabin Embarked  \n",
       "0      0         A/5 21171   7.2500   NaN        S  \n",
       "1      0          PC 17599  71.2833   C85        C  \n",
       "2      0  STON/O2. 3101282   7.9250   NaN        S  \n",
       "3      0            113803  53.1000  C123        S  \n",
       "4      0            373450   8.0500   NaN        S  "
      ]
     },
     "execution_count": 3,
     "metadata": {},
     "output_type": "execute_result"
    }
   ],
   "source": [
    "#Take a first look at the data\n",
    "#Train set\n",
    "print(\"Train data has %s columns and %s rows\" % (train_df.shape[1], train_df.shape[0]))\n",
    "print(\"Train data sample:\")\n",
    "train_df.head()"
   ]
  },
  {
   "cell_type": "code",
   "execution_count": 4,
   "metadata": {},
   "outputs": [
    {
     "name": "stdout",
     "output_type": "stream",
     "text": [
      "Train data has 11 columns and 418 rows\n",
      "Train data sample:\n"
     ]
    },
    {
     "data": {
      "text/html": [
       "<div>\n",
       "<style scoped>\n",
       "    .dataframe tbody tr th:only-of-type {\n",
       "        vertical-align: middle;\n",
       "    }\n",
       "\n",
       "    .dataframe tbody tr th {\n",
       "        vertical-align: top;\n",
       "    }\n",
       "\n",
       "    .dataframe thead th {\n",
       "        text-align: right;\n",
       "    }\n",
       "</style>\n",
       "<table border=\"1\" class=\"dataframe\">\n",
       "  <thead>\n",
       "    <tr style=\"text-align: right;\">\n",
       "      <th></th>\n",
       "      <th>PassengerId</th>\n",
       "      <th>Pclass</th>\n",
       "      <th>Name</th>\n",
       "      <th>Sex</th>\n",
       "      <th>Age</th>\n",
       "      <th>SibSp</th>\n",
       "      <th>Parch</th>\n",
       "      <th>Ticket</th>\n",
       "      <th>Fare</th>\n",
       "      <th>Cabin</th>\n",
       "      <th>Embarked</th>\n",
       "    </tr>\n",
       "  </thead>\n",
       "  <tbody>\n",
       "    <tr>\n",
       "      <th>0</th>\n",
       "      <td>892</td>\n",
       "      <td>3</td>\n",
       "      <td>Kelly, Mr. James</td>\n",
       "      <td>male</td>\n",
       "      <td>34.5</td>\n",
       "      <td>0</td>\n",
       "      <td>0</td>\n",
       "      <td>330911</td>\n",
       "      <td>7.8292</td>\n",
       "      <td>NaN</td>\n",
       "      <td>Q</td>\n",
       "    </tr>\n",
       "    <tr>\n",
       "      <th>1</th>\n",
       "      <td>893</td>\n",
       "      <td>3</td>\n",
       "      <td>Wilkes, Mrs. James (Ellen Needs)</td>\n",
       "      <td>female</td>\n",
       "      <td>47.0</td>\n",
       "      <td>1</td>\n",
       "      <td>0</td>\n",
       "      <td>363272</td>\n",
       "      <td>7.0000</td>\n",
       "      <td>NaN</td>\n",
       "      <td>S</td>\n",
       "    </tr>\n",
       "    <tr>\n",
       "      <th>2</th>\n",
       "      <td>894</td>\n",
       "      <td>2</td>\n",
       "      <td>Myles, Mr. Thomas Francis</td>\n",
       "      <td>male</td>\n",
       "      <td>62.0</td>\n",
       "      <td>0</td>\n",
       "      <td>0</td>\n",
       "      <td>240276</td>\n",
       "      <td>9.6875</td>\n",
       "      <td>NaN</td>\n",
       "      <td>Q</td>\n",
       "    </tr>\n",
       "    <tr>\n",
       "      <th>3</th>\n",
       "      <td>895</td>\n",
       "      <td>3</td>\n",
       "      <td>Wirz, Mr. Albert</td>\n",
       "      <td>male</td>\n",
       "      <td>27.0</td>\n",
       "      <td>0</td>\n",
       "      <td>0</td>\n",
       "      <td>315154</td>\n",
       "      <td>8.6625</td>\n",
       "      <td>NaN</td>\n",
       "      <td>S</td>\n",
       "    </tr>\n",
       "    <tr>\n",
       "      <th>4</th>\n",
       "      <td>896</td>\n",
       "      <td>3</td>\n",
       "      <td>Hirvonen, Mrs. Alexander (Helga E Lindqvist)</td>\n",
       "      <td>female</td>\n",
       "      <td>22.0</td>\n",
       "      <td>1</td>\n",
       "      <td>1</td>\n",
       "      <td>3101298</td>\n",
       "      <td>12.2875</td>\n",
       "      <td>NaN</td>\n",
       "      <td>S</td>\n",
       "    </tr>\n",
       "  </tbody>\n",
       "</table>\n",
       "</div>"
      ],
      "text/plain": [
       "   PassengerId  Pclass                                          Name     Sex  \\\n",
       "0          892       3                              Kelly, Mr. James    male   \n",
       "1          893       3              Wilkes, Mrs. James (Ellen Needs)  female   \n",
       "2          894       2                     Myles, Mr. Thomas Francis    male   \n",
       "3          895       3                              Wirz, Mr. Albert    male   \n",
       "4          896       3  Hirvonen, Mrs. Alexander (Helga E Lindqvist)  female   \n",
       "\n",
       "    Age  SibSp  Parch   Ticket     Fare Cabin Embarked  \n",
       "0  34.5      0      0   330911   7.8292   NaN        Q  \n",
       "1  47.0      1      0   363272   7.0000   NaN        S  \n",
       "2  62.0      0      0   240276   9.6875   NaN        Q  \n",
       "3  27.0      0      0   315154   8.6625   NaN        S  \n",
       "4  22.0      1      1  3101298  12.2875   NaN        S  "
      ]
     },
     "execution_count": 4,
     "metadata": {},
     "output_type": "execute_result"
    }
   ],
   "source": [
    "#Take a first look at the data\n",
    "#Test set\n",
    "print(\"Train data has %s columns and %s rows\" % (test_df.shape[1], test_df.shape[0]))\n",
    "print(\"Train data sample:\")\n",
    "test_df.head()"
   ]
  },
  {
   "cell_type": "markdown",
   "metadata": {},
   "source": [
    "Uma análise inicial nos permite identificar coerência entre os dois conjuntos - treino e teste. O conjunto de teste possui 11 atributos, todos presentes no conjunto de treinamento. O conjunto de treino possui uma feature a mais, que é o target, o que já era esperado.\n",
    "\n",
    "O conjunto Titanic foi fornecido pelo Kaggle já com uma separação entre treino e teste. Na maioria dos projetos reais os analistas são responsáveis por esta separação.\n",
    "Ao realizar a divisão dos conjuntos é importante atentar para os seguintes pontos:\n",
    "* Um determinado exemplo deve pertencer apenas a um dos conjuntos. No caso deste dataset, por exemplo, um passageiro que está no conjunto de treinamento não pode estar no conjunto de testes, uma vez que isso pode mascarar o real resultado do modelo.\n",
    "* Se tratando de um problema de classificacão, como é o caso, deve-se preservar a distribuição de classes entre os conjuntos.\n",
    "\n",
    "Como conjunto inicial, é válido também remover os exemplos duplicados dentro de cada conjunto. A duplicação de um exemplo (ou oversampling) pode ser utilizada mais tarde como forma de balanceamento de classes, caso necessário. Essa remoção deve ser feita antes da separação dos conjuntos.\n",
    "\n",
    "Como o conjunto de teste fornecido não possui a coluna target, aqui assume-se que os requisitos de distribuicão e balanceamento de classes são atendidos.\n",
    "\n",
    "Exemplos duplicados, se existirem, também não serão removidos do conjunto de teste, para que o resultado possa ser submetido no Kaggle."
   ]
  },
  {
   "cell_type": "code",
   "execution_count": 5,
   "metadata": {},
   "outputs": [
    {
     "data": {
      "text/plain": [
       "False    891\n",
       "dtype: int64"
      ]
     },
     "execution_count": 5,
     "metadata": {},
     "output_type": "execute_result"
    }
   ],
   "source": [
    "#Check for duplicates on train set\n",
    "train_df.duplicated().value_counts()"
   ]
  },
  {
   "cell_type": "code",
   "execution_count": 6,
   "metadata": {},
   "outputs": [
    {
     "data": {
      "text/plain": [
       "False    418\n",
       "dtype: int64"
      ]
     },
     "execution_count": 6,
     "metadata": {},
     "output_type": "execute_result"
    }
   ],
   "source": [
    "#Check for duplicates on test set\n",
    "test_df.duplicated().value_counts()"
   ]
  },
  {
   "cell_type": "markdown",
   "metadata": {},
   "source": [
    "Como nenhum dos conjuntos possui linhas iguais (a princípio), nenhuma linha será excluída."
   ]
  },
  {
   "cell_type": "code",
   "execution_count": 7,
   "metadata": {},
   "outputs": [
    {
     "data": {
      "text/plain": [
       "0    549\n",
       "1    342\n",
       "Name: Survived, dtype: int64"
      ]
     },
     "execution_count": 7,
     "metadata": {},
     "output_type": "execute_result"
    }
   ],
   "source": [
    "#Verify class distribution on train set\n",
    "train_df['Survived'].value_counts()"
   ]
  },
  {
   "cell_type": "code",
   "execution_count": 8,
   "metadata": {},
   "outputs": [
    {
     "data": {
      "text/plain": [
       "0    0.616162\n",
       "1    0.383838\n",
       "Name: Survived, dtype: float64"
      ]
     },
     "execution_count": 8,
     "metadata": {},
     "output_type": "execute_result"
    }
   ],
   "source": [
    "train_df['Survived'].value_counts(normalize=True)"
   ]
  },
  {
   "cell_type": "markdown",
   "metadata": {},
   "source": [
    "O conjunto se apresenta relativamente balanceado, com 61.6% pertencendo à classe majoritária (não sobreviveu) e 38.4% pertencente à classe minoritária (sobreviveu). Técnicas de balanceamento podem beneficiar modelos mais facilmente afetados por desbalanceamentos. O dado é suficientemente balanceado para que certos modelos atinjam bons resultados sem um balanceamento prévio."
   ]
  },
  {
   "cell_type": "code",
   "execution_count": 9,
   "metadata": {},
   "outputs": [
    {
     "data": {
      "text/html": [
       "<div>\n",
       "<style scoped>\n",
       "    .dataframe tbody tr th:only-of-type {\n",
       "        vertical-align: middle;\n",
       "    }\n",
       "\n",
       "    .dataframe tbody tr th {\n",
       "        vertical-align: top;\n",
       "    }\n",
       "\n",
       "    .dataframe thead th {\n",
       "        text-align: right;\n",
       "    }\n",
       "</style>\n",
       "<table border=\"1\" class=\"dataframe\">\n",
       "  <thead>\n",
       "    <tr style=\"text-align: right;\">\n",
       "      <th></th>\n",
       "      <th>PassengerId</th>\n",
       "      <th>Survived</th>\n",
       "      <th>Pclass_x</th>\n",
       "      <th>Name_x</th>\n",
       "      <th>Sex_x</th>\n",
       "      <th>Age_x</th>\n",
       "      <th>SibSp_x</th>\n",
       "      <th>Parch_x</th>\n",
       "      <th>Ticket_x</th>\n",
       "      <th>Fare_x</th>\n",
       "      <th>...</th>\n",
       "      <th>Pclass_y</th>\n",
       "      <th>Name_y</th>\n",
       "      <th>Sex_y</th>\n",
       "      <th>Age_y</th>\n",
       "      <th>SibSp_y</th>\n",
       "      <th>Parch_y</th>\n",
       "      <th>Ticket_y</th>\n",
       "      <th>Fare_y</th>\n",
       "      <th>Cabin_y</th>\n",
       "      <th>Embarked_y</th>\n",
       "    </tr>\n",
       "  </thead>\n",
       "  <tbody>\n",
       "  </tbody>\n",
       "</table>\n",
       "<p>0 rows × 22 columns</p>\n",
       "</div>"
      ],
      "text/plain": [
       "Empty DataFrame\n",
       "Columns: [PassengerId, Survived, Pclass_x, Name_x, Sex_x, Age_x, SibSp_x, Parch_x, Ticket_x, Fare_x, Cabin_x, Embarked_x, Pclass_y, Name_y, Sex_y, Age_y, SibSp_y, Parch_y, Ticket_y, Fare_y, Cabin_y, Embarked_y]\n",
       "Index: []\n",
       "\n",
       "[0 rows x 22 columns]"
      ]
     },
     "execution_count": 9,
     "metadata": {},
     "output_type": "execute_result"
    }
   ],
   "source": [
    "#Verify if there are rows on both datasets\n",
    "train_df.merge(test_df, on=[\"PassengerId\"])"
   ]
  },
  {
   "cell_type": "markdown",
   "metadata": {},
   "source": [
    "O merge do pandas com parâmetros padrões retorna linhas iguais para colunas presentes nos dois dataframes. Como o retorno foi vazio podemos concluir que os dados não se repetem nos conjuntos."
   ]
  },
  {
   "cell_type": "markdown",
   "metadata": {},
   "source": [
    "## Data Leakage\n",
    "---\n",
    "Em machine learning, data leakage é uma situação onde uma feature contém informação sobre o atributo target ou quando uma feature que não estará disponível durante a etapa de predição é usado para treinamento ou ainda quando um tratamento é realizado no dado de forma a fornecer conhecimento entre os conjuntos de treinamento e validação/teste.\n",
    "\n",
    "Aqui é destacada a importância da etapa de business understanding em um processo de aprendizagem de máquina. É necessário conhecer o fluxo de informacão para poder definir os atributos que estarão disponíveis para treinamento. Estes precisam ser iguais aos que estarão disponíveis no momento da predição.\n",
    "\n",
    "Data leakage pode ser inerente do dados fornecido ou proviente do tratamente utilizado. Nesta etapa será verificada a existência de um leakage prévio, onde uma determinada feature corresponde ao target definido."
   ]
  },
  {
   "cell_type": "code",
   "execution_count": 10,
   "metadata": {},
   "outputs": [
    {
     "data": {
      "text/plain": [
       "<matplotlib.axes._subplots.AxesSubplot at 0x1a1a312748>"
      ]
     },
     "execution_count": 10,
     "metadata": {},
     "output_type": "execute_result"
    },
    {
     "data": {
      "image/png": "[encoded data removed]",
      "text/plain": [
       "<Figure size 432x288 with 2 Axes>"
      ]
     },
     "metadata": {
      "needs_background": "light"
     },
     "output_type": "display_data"
    }
   ],
   "source": [
    "#Verify correlation between features\n",
    "correlation_matrix  = train_df.corr()\n",
    "sns.heatmap(correlation_matrix, xticklabels=correlation_matrix.columns, yticklabels=correlation_matrix.columns)"
   ]
  },
  {
   "cell_type": "markdown",
   "metadata": {},
   "source": [
    "Analisando a matriz é possível perceber que Pclass e Fare são as features que se relacionam mais fortemente com Survived, mas apesar da relação existir, ela não é forte o suficiente para suspeitar de um leakage.\n",
    "\n",
    "SibSp e Parch também possuem influência significativa.\n",
    "\n",
    "Nota-se que as únicas features levadas em consideração no cálculo foram as features numéricas. Ao finalizar os tratamentos dos atributos é importante repetir a análise para garantir resultado coerentes."
   ]
  },
  {
   "cell_type": "markdown",
   "metadata": {},
   "source": [
    "## Análise de Features\n",
    "---\n",
    "Uma vez analisado o dataset de forma genérica, o próximo passo é a análise detalhada de suas features. A depender do problema, a análise individual dos atributos de um conjunto de dados pode ser inviável (quando estes forem muitos, por exemplo) ou não necessária (no caso de uma série temporal, por exemplo).\n"
   ]
  },
  {
   "cell_type": "markdown",
   "metadata": {},
   "source": [
    "#### PassagerId\n",
    "Esta feature aparenta ser um identificador único de um passageiro. Caso isso seja verdade, ela não deve ser usada na predição pois não representa uma característica do indivíduo."
   ]
  },
  {
   "cell_type": "code",
   "execution_count": 11,
   "metadata": {},
   "outputs": [
    {
     "name": "stdout",
     "output_type": "stream",
     "text": [
      "Unique ID values in train: 891\n",
      "Unique passengers in train: 891\n"
     ]
    }
   ],
   "source": [
    "#Verify number of unique values \n",
    "unique_values_passenger_id = train_df[\"PassengerId\"].unique().shape[0]\n",
    "unique_passengers_train = train_df.shape[0]\n",
    "print(\"Unique ID values in train: %s\" % unique_values_passenger_id)\n",
    "print(\"Unique passengers in train: %s\" % unique_passengers_train)"
   ]
  },
  {
   "cell_type": "code",
   "execution_count": 12,
   "metadata": {},
   "outputs": [
    {
     "name": "stdout",
     "output_type": "stream",
     "text": [
      "Unique ID values in train: 418\n",
      "Unique passengers in train: 418\n"
     ]
    }
   ],
   "source": [
    "#Verify number of unique values in test \n",
    "unique_values_passenger_id_test = test_df[\"PassengerId\"].unique().shape[0]\n",
    "unique_passengers_test = test_df.shape[0]\n",
    "print(\"Unique ID values in train: %s\" % unique_values_passenger_id_test)\n",
    "print(\"Unique passengers in train: %s\" % unique_passengers_test)"
   ]
  },
  {
   "cell_type": "markdown",
   "metadata": {},
   "source": [
    "Os IDs são únicos tanto no treinamento como no teste, confirmando a suposição inicial."
   ]
  },
  {
   "cell_type": "markdown",
   "metadata": {},
   "source": [
    "#### PClass\n",
    "De acordo com a descrição do dataset, PClass corresponde à classe do passageiro durante a viagem. Já foi verificado que este é um atributo que possui forte relação com o target. "
   ]
  },
  {
   "cell_type": "code",
   "execution_count": 13,
   "metadata": {},
   "outputs": [
    {
     "name": "stdout",
     "output_type": "stream",
     "text": [
      "3    0.551066\n",
      "1    0.242424\n",
      "2    0.206510\n",
      "Name: Pclass, dtype: float64\n"
     ]
    },
    {
     "data": {
      "text/plain": [
       "<matplotlib.axes._subplots.AxesSubplot at 0x1076a3cf8>"
      ]
     },
     "execution_count": 13,
     "metadata": {},
     "output_type": "execute_result"
    },
    {
     "data": {
      "image/png": "[encoded data removed]",
      "text/plain": [
       "<Figure size 432x288 with 1 Axes>"
      ]
     },
     "metadata": {
      "needs_background": "light"
     },
     "output_type": "display_data"
    }
   ],
   "source": [
    "#Verify Distribution\n",
    "print(train_df[\"Pclass\"].value_counts(normalize=True, dropna=False))\n",
    "sns.distplot(train_df[\"Pclass\"])"
   ]
  },
  {
   "cell_type": "markdown",
   "metadata": {},
   "source": [
    "O atributo já está em formato numérico e não apresenta missing values. A princípio não necessita de tratamento. Um possível ajuste seria a normalização, que será avaliada quando todas as features forem numérias."
   ]
  },
  {
   "cell_type": "markdown",
   "metadata": {},
   "source": [
    "#### Name\n",
    "Name é um atributo em formato de texto. Para analisa-lo é preciso entender o formato em que o texto é apresentado."
   ]
  },
  {
   "cell_type": "code",
   "execution_count": 14,
   "metadata": {},
   "outputs": [
    {
     "name": "stdout",
     "output_type": "stream",
     "text": [
      "0                              Braund, Mr. Owen Harris\n",
      "1    Cumings, Mrs. John Bradley (Florence Briggs Th...\n",
      "2                               Heikkinen, Miss. Laina\n",
      "3         Futrelle, Mrs. Jacques Heath (Lily May Peel)\n",
      "4                             Allen, Mr. William Henry\n",
      "5                                     Moran, Mr. James\n",
      "6                              McCarthy, Mr. Timothy J\n",
      "7                       Palsson, Master. Gosta Leonard\n",
      "8    Johnson, Mrs. Oscar W (Elisabeth Vilhelmina Berg)\n",
      "9                  Nasser, Mrs. Nicholas (Adele Achem)\n",
      "Name: Name, dtype: object\n"
     ]
    }
   ],
   "source": [
    "#Look at text format\n",
    "print(train_df[\"Name\"].head(n=10))"
   ]
  },
  {
   "cell_type": "markdown",
   "metadata": {},
   "source": [
    "O formato do nome parece seguir o padrão SOBRENOME, TÍTULO NOME. O padrão é aparetemente quebrado quando o título é Mrs. Ester casos merecem uma investigação mais profunda."
   ]
  },
  {
   "cell_type": "code",
   "execution_count": 15,
   "metadata": {},
   "outputs": [
    {
     "name": "stdout",
     "output_type": "stream",
     "text": [
      "3      Futrelle, Mrs. Jacques Heath (Lily May Peel)\n",
      "137                     Futrelle, Mr. Jacques Heath\n",
      "Name: Name, dtype: object\n"
     ]
    }
   ],
   "source": [
    "print(train_df[\"Name\"][train_df[\"Name\"].str.startswith(\"Futrelle\")])"
   ]
  },
  {
   "cell_type": "code",
   "execution_count": 16,
   "metadata": {},
   "outputs": [
    {
     "name": "stdout",
     "output_type": "stream",
     "text": [
      "1    Cumings, Mrs. John Bradley (Florence Briggs Th...\n",
      "Name: Name, dtype: object\n",
      "234    Cumings, Mr. John Bradley\n",
      "Name: Name, dtype: object\n"
     ]
    }
   ],
   "source": [
    "print(train_df[\"Name\"][train_df[\"Name\"].str.startswith(\"Cumings\")])\n",
    "print(test_df[\"Name\"][test_df[\"Name\"].str.startswith(\"Cumings\")])"
   ]
  },
  {
   "cell_type": "markdown",
   "metadata": {},
   "source": [
    "O nome em parênteses aparenta ser o nome real da passageira enquanto o nome atribuido seria, possivelmente, do marido.\n",
    "\n",
    "O tratamento de dados de texto requer uma atenção maior. A utilizacão deste tipo de dado pode se dar de algumas formas:\n",
    "* O mapeamento do texto completo, ou expressões nele contidas em atributos numéricos. Esta abordagem normalmente transforma uma única feature em dezenas ou até centenas de outras features, a depender do método escolhido e do tamanho do vocabulário daquele campo.\n",
    "* A extração de informação do texto de forma a criar novas features categórcias. Um exemplo para o caso do Titanic seria criar um atributo que representasse o título do passageiro.\n",
    "\n",
    "Um possível problema na extração do título está na possibilidade do conjunto de teste possuir um valor de título diferente daqueles encontrados no treinamento. Uma forma de lidar com isso é introduzir uma categorial extra, que representa a ausência de categoria ou uma categoria desconhecida."
   ]
  },
  {
   "cell_type": "markdown",
   "metadata": {},
   "source": [
    "#### Sex\n",
    "Representa o sexo do passageiro. Se trata de uma feature categórica, que pode assumir um de dois valores: homem ou mulher."
   ]
  },
  {
   "cell_type": "code",
   "execution_count": 17,
   "metadata": {},
   "outputs": [
    {
     "name": "stdout",
     "output_type": "stream",
     "text": [
      "male      0.647587\n",
      "female    0.352413\n",
      "Name: Sex, dtype: float64\n"
     ]
    }
   ],
   "source": [
    "#Verify Distribution\n",
    "print(train_df[\"Sex\"].value_counts(normalize=True, dropna=False))"
   ]
  },
  {
   "cell_type": "markdown",
   "metadata": {},
   "source": [
    "À bordo do Titanic existiam mais homens do que mulheres. \n",
    "\n",
    "Por se tratar de uma feature categórica, existem dois tipos de tratamento que podem ser adotados:\n",
    "* Label Encoder, onde cada valor possível recebe um valor numérico que o represente (Exemplo: 0 - Homem, 1 - Mulher).\n",
    "* One-Hot encoding, onde são criadas tantas features quanto valores para o atributo original (Exemplo: a feature Sex é substituída por dois novos atributos: Homem e Mulher). \n",
    "\n",
    "O tipo de tratamento dado pode depender, por exemplo, do algoritmo usado e da relação entre as categorias. Considerar homem como 0 e mulher como 1, por exemplo, pode levar um algoritmo a inferir que mulher é o estado sucessor do homem, quando esta relação não é verdadeira. \n",
    "\n",
    "O atributo não possui missing values. "
   ]
  },
  {
   "cell_type": "markdown",
   "metadata": {},
   "source": [
    "#### Age\n",
    "Representa a idade do passageiro."
   ]
  },
  {
   "cell_type": "code",
   "execution_count": 18,
   "metadata": {},
   "outputs": [
    {
     "name": "stdout",
     "output_type": "stream",
     "text": [
      "NaN       0.198653\n",
      " 24.00    0.033670\n",
      " 22.00    0.030303\n",
      " 18.00    0.029181\n",
      " 28.00    0.028058\n",
      " 19.00    0.028058\n",
      " 30.00    0.028058\n",
      " 21.00    0.026936\n",
      " 25.00    0.025814\n",
      " 36.00    0.024691\n",
      " 29.00    0.022447\n",
      " 32.00    0.020202\n",
      " 26.00    0.020202\n",
      " 35.00    0.020202\n",
      " 27.00    0.020202\n",
      " 16.00    0.019080\n",
      " 31.00    0.019080\n",
      " 34.00    0.016835\n",
      " 23.00    0.016835\n",
      " 33.00    0.016835\n",
      " 20.00    0.016835\n",
      " 39.00    0.015713\n",
      " 17.00    0.014590\n",
      " 42.00    0.014590\n",
      " 40.00    0.014590\n",
      " 45.00    0.013468\n",
      " 38.00    0.012346\n",
      " 50.00    0.011223\n",
      " 2.00     0.011223\n",
      " 4.00     0.011223\n",
      "            ...   \n",
      " 28.50    0.002245\n",
      " 63.00    0.002245\n",
      " 0.83     0.002245\n",
      " 30.50    0.002245\n",
      " 70.00    0.002245\n",
      " 57.00    0.002245\n",
      " 0.75     0.002245\n",
      " 13.00    0.002245\n",
      " 59.00    0.002245\n",
      " 10.00    0.002245\n",
      " 64.00    0.002245\n",
      " 40.50    0.002245\n",
      " 45.50    0.002245\n",
      " 32.50    0.002245\n",
      " 20.50    0.001122\n",
      " 24.50    0.001122\n",
      " 0.67     0.001122\n",
      " 70.50    0.001122\n",
      " 0.92     0.001122\n",
      " 74.00    0.001122\n",
      " 34.50    0.001122\n",
      " 14.50    0.001122\n",
      " 80.00    0.001122\n",
      " 12.00    0.001122\n",
      " 53.00    0.001122\n",
      " 36.50    0.001122\n",
      " 55.50    0.001122\n",
      " 66.00    0.001122\n",
      " 23.50    0.001122\n",
      " 0.42     0.001122\n",
      "Name: Age, Length: 89, dtype: float64\n"
     ]
    },
    {
     "data": {
      "text/plain": [
       "<matplotlib.axes._subplots.AxesSubplot at 0x1a1a6b57f0>"
      ]
     },
     "execution_count": 18,
     "metadata": {},
     "output_type": "execute_result"
    },
    {
     "data": {
      "image/png": "[encoded data removed]",
      "text/plain": [
       "<Figure size 432x288 with 1 Axes>"
      ]
     },
     "metadata": {
      "needs_background": "light"
     },
     "output_type": "display_data"
    }
   ],
   "source": [
    "#Verify Distribution\n",
    "print(train_df[\"Age\"].value_counts(normalize=True, dropna=False))\n",
    "sns.distplot(train_df[\"Age\"].dropna())"
   ]
  },
  {
   "cell_type": "markdown",
   "metadata": {},
   "source": [
    "Quase 20% dos passageiros do conjunto de treinamento não possuem registro de idade. A ausência de dados em um atributo numérico pode ser tratada de várias formas:\n",
    "* Preenchimento com a média de idade, mediana e afins. É possível neste caso considerar todos os passageiros, por exemplo, ou apenas aqueles do mesmo sexo ou mesma classe.\n",
    "* Eliminacão das linhas com dados faltantes.\n",
    "* Preenchimento com um valor fixo, como 0, quando este fizer sentido para o atributo.\n",
    "\n",
    "A idade já é um valor numérico com uma relação sequencial entre seus valores e por isso não necessita de mais tratamentos além do preenchimento de missing values."
   ]
  },
  {
   "cell_type": "markdown",
   "metadata": {},
   "source": [
    "#### SibSp\n",
    "Representa o número de irmãos ou cônjuges de um passageiro que estavam presentes no Titanic."
   ]
  },
  {
   "cell_type": "code",
   "execution_count": 19,
   "metadata": {},
   "outputs": [
    {
     "name": "stdout",
     "output_type": "stream",
     "text": [
      "0    0.682379\n",
      "1    0.234568\n",
      "2    0.031425\n",
      "4    0.020202\n",
      "3    0.017957\n",
      "8    0.007856\n",
      "5    0.005612\n",
      "Name: SibSp, dtype: float64\n"
     ]
    },
    {
     "data": {
      "text/plain": [
       "<matplotlib.axes._subplots.AxesSubplot at 0x1a1a7a0f98>"
      ]
     },
     "execution_count": 19,
     "metadata": {},
     "output_type": "execute_result"
    },
    {
     "data": {
      "image/png": "[encoded data removed]",
      "text/plain": [
       "<Figure size 432x288 with 1 Axes>"
      ]
     },
     "metadata": {
      "needs_background": "light"
     },
     "output_type": "display_data"
    }
   ],
   "source": [
    "#Verify Distribution\n",
    "print(train_df[\"SibSp\"].value_counts(normalize=True, dropna=False))\n",
    "sns.distplot(train_df[\"SibSp\"].dropna())"
   ]
  },
  {
   "cell_type": "markdown",
   "metadata": {},
   "source": [
    "A maoiria dos passageiros não tinha irmãos ou cônjiges a bordo do Titanic.\n",
    "\n",
    "SibSp já é um valor numérico com uma relação sequencial entre seus valores e por isso não necessita de mais tratamentos. Também não possui missing values."
   ]
  },
  {
   "cell_type": "markdown",
   "metadata": {},
   "source": [
    "#### Parch\n",
    "Representa o número de pais e/ou filhos de um passageiro que estavam presentes no Titanic."
   ]
  },
  {
   "cell_type": "code",
   "execution_count": 20,
   "metadata": {},
   "outputs": [
    {
     "name": "stdout",
     "output_type": "stream",
     "text": [
      "0    0.760943\n",
      "1    0.132435\n",
      "2    0.089787\n",
      "5    0.005612\n",
      "3    0.005612\n",
      "4    0.004489\n",
      "6    0.001122\n",
      "Name: Parch, dtype: float64\n"
     ]
    },
    {
     "data": {
      "text/plain": [
       "<matplotlib.axes._subplots.AxesSubplot at 0x1a1a8b6e80>"
      ]
     },
     "execution_count": 20,
     "metadata": {},
     "output_type": "execute_result"
    },
    {
     "data": {
      "image/png": "[encoded data removed]",
      "text/plain": [
       "<Figure size 432x288 with 1 Axes>"
      ]
     },
     "metadata": {
      "needs_background": "light"
     },
     "output_type": "display_data"
    }
   ],
   "source": [
    "#Verify Distribution\n",
    "print(train_df[\"Parch\"].value_counts(normalize=True, dropna=False))\n",
    "sns.distplot(train_df[\"Parch\"].dropna())"
   ]
  },
  {
   "cell_type": "markdown",
   "metadata": {},
   "source": [
    "A maoiria dos passageiros não tinha filhos ou pais a bordo do Titanic.\n",
    "\n",
    "Parch já é um valor numérico com uma relação sequencial entre seus valores e por isso não necessita de mais tratamentos. Também não possui missing values."
   ]
  },
  {
   "cell_type": "markdown",
   "metadata": {},
   "source": [
    "#### Ticket\n",
    "Ticket representa o número do ticket do passageiro. Assim como PassengerID este pode ser um identificador único e deve ser descosiderado se for o caso."
   ]
  },
  {
   "cell_type": "code",
   "execution_count": 21,
   "metadata": {},
   "outputs": [
    {
     "name": "stdout",
     "output_type": "stream",
     "text": [
      "Unique Ticket values in train: 681\n",
      "Unique passengers in train: 891\n"
     ]
    }
   ],
   "source": [
    "#Verify number of unique values \n",
    "unique_values_ticket_train = train_df[\"Ticket\"].unique().shape[0]\n",
    "unique_tickets_train = train_df.shape[0]\n",
    "print(\"Unique Ticket values in train: %s\" % unique_values_ticket_train)\n",
    "print(\"Unique passengers in train: %s\" % unique_tickets_train)"
   ]
  },
  {
   "cell_type": "code",
   "execution_count": 22,
   "metadata": {},
   "outputs": [
    {
     "name": "stdout",
     "output_type": "stream",
     "text": [
      "Unique Ticket values in train: 363\n",
      "Unique passengers in train: 418\n"
     ]
    }
   ],
   "source": [
    "#Verify number of unique values \n",
    "unique_values_ticket_test = test_df[\"Ticket\"].unique().shape[0]\n",
    "unique_tickets_train = test_df.shape[0]\n",
    "print(\"Unique Ticket values in train: %s\" % unique_values_ticket_test)\n",
    "print(\"Unique passengers in train: %s\" % unique_tickets_train)"
   ]
  },
  {
   "cell_type": "code",
   "execution_count": 23,
   "metadata": {},
   "outputs": [
    {
     "name": "stdout",
     "output_type": "stream",
     "text": [
      "347082              7\n",
      "1601                7\n",
      "CA. 2343            7\n",
      "3101295             6\n",
      "CA 2144             6\n",
      "347088              6\n",
      "382652              5\n",
      "S.O.C. 14879        5\n",
      "LINE                4\n",
      "113760              4\n",
      "113781              4\n",
      "W./C. 6608          4\n",
      "19950               4\n",
      "349909              4\n",
      "2666                4\n",
      "347077              4\n",
      "4133                4\n",
      "17421               4\n",
      "PC 17757            4\n",
      "PC 17572            3\n",
      "230080              3\n",
      "345773              3\n",
      "F.C.C. 13529        3\n",
      "110152              3\n",
      "PC 17760            3\n",
      "239853              3\n",
      "347742              3\n",
      "C.A. 34651          3\n",
      "SC/Paris 2123       3\n",
      "PC 17582            3\n",
      "                   ..\n",
      "S.C./A.4. 23567     1\n",
      "28228               1\n",
      "392091              1\n",
      "2680                1\n",
      "2649                1\n",
      "370372              1\n",
      "113783              1\n",
      "SOTON/O2 3101272    1\n",
      "349227              1\n",
      "A/5. 2151           1\n",
      "2664                1\n",
      "248698              1\n",
      "394140              1\n",
      "234604              1\n",
      "SW/PP 751           1\n",
      "C.A. 29178          1\n",
      "370375              1\n",
      "243880              1\n",
      "236171              1\n",
      "7545                1\n",
      "3474                1\n",
      "349223              1\n",
      "347464              1\n",
      "13214               1\n",
      "347063              1\n",
      "315151              1\n",
      "345777              1\n",
      "F.C.C. 13528        1\n",
      "14311               1\n",
      "349209              1\n",
      "Name: Ticket, Length: 681, dtype: int64\n",
      "0\n"
     ]
    }
   ],
   "source": [
    "#Verify missing values in Tickets\n",
    "print(train_df[\"Ticket\"].value_counts(dropna=False))\n",
    "print(train_df[\"Ticket\"].isna().sum())"
   ]
  },
  {
   "cell_type": "code",
   "execution_count": 24,
   "metadata": {},
   "outputs": [
    {
     "name": "stdout",
     "output_type": "stream",
     "text": [
      "     PassengerId  Survived  Pclass             Name   Sex   Age  SibSp  Parch  \\\n",
      "74            75         1       3    Bing, Mr. Lee  male  32.0      0      0   \n",
      "169          170         0       3    Ling, Mr. Lee  male  28.0      0      0   \n",
      "509          510         1       3   Lang, Mr. Fang  male  26.0      0      0   \n",
      "643          644         1       3  Foo, Mr. Choong  male   NaN      0      0   \n",
      "692          693         1       3     Lam, Mr. Ali  male   NaN      0      0   \n",
      "826          827         0       3     Lam, Mr. Len  male   NaN      0      0   \n",
      "838          839         1       3  Chip, Mr. Chang  male  32.0      0      0   \n",
      "\n",
      "    Ticket     Fare Cabin Embarked  \n",
      "74    1601  56.4958   NaN        S  \n",
      "169   1601  56.4958   NaN        S  \n",
      "509   1601  56.4958   NaN        S  \n",
      "643   1601  56.4958   NaN        S  \n",
      "692   1601  56.4958   NaN        S  \n",
      "826   1601  56.4958   NaN        S  \n",
      "838   1601  56.4958   NaN        S  \n"
     ]
    }
   ],
   "source": [
    "#Verify passengers with the same ticket values\n",
    "print(train_df[train_df[\"Ticket\"] == '1601'])"
   ]
  },
  {
   "cell_type": "code",
   "execution_count": 25,
   "metadata": {},
   "outputs": [
    {
     "name": "stdout",
     "output_type": "stream",
     "text": [
      "     PassengerId  Survived  Pclass                                     Name  \\\n",
      "59            60         0       3       Goodwin, Master. William Frederick   \n",
      "71            72         0       3               Goodwin, Miss. Lillian Amy   \n",
      "386          387         0       3          Goodwin, Master. Sidney Leonard   \n",
      "480          481         0       3           Goodwin, Master. Harold Victor   \n",
      "678          679         0       3  Goodwin, Mrs. Frederick (Augusta Tyler)   \n",
      "683          684         0       3              Goodwin, Mr. Charles Edward   \n",
      "\n",
      "        Sex   Age  SibSp  Parch   Ticket  Fare Cabin Embarked  \n",
      "59     male  11.0      5      2  CA 2144  46.9   NaN        S  \n",
      "71   female  16.0      5      2  CA 2144  46.9   NaN        S  \n",
      "386    male   1.0      5      2  CA 2144  46.9   NaN        S  \n",
      "480    male   9.0      5      2  CA 2144  46.9   NaN        S  \n",
      "678  female  43.0      1      6  CA 2144  46.9   NaN        S  \n",
      "683    male  14.0      5      2  CA 2144  46.9   NaN        S  \n"
     ]
    }
   ],
   "source": [
    "#Verify passengers with the same ticket values\n",
    "print(train_df[train_df[\"Ticket\"] == 'CA 2144'])"
   ]
  },
  {
   "cell_type": "code",
   "execution_count": 26,
   "metadata": {},
   "outputs": [
    {
     "name": "stdout",
     "output_type": "stream",
     "text": [
      "     PassengerId  Survived  Pclass  \\\n",
      "13            14         0       3   \n",
      "119          120         0       3   \n",
      "541          542         0       3   \n",
      "542          543         0       3   \n",
      "610          611         0       3   \n",
      "813          814         0       3   \n",
      "850          851         0       3   \n",
      "\n",
      "                                                  Name     Sex   Age  SibSp  \\\n",
      "13                         Andersson, Mr. Anders Johan    male  39.0      1   \n",
      "119                  Andersson, Miss. Ellis Anna Maria  female   2.0      4   \n",
      "541               Andersson, Miss. Ingeborg Constanzia  female   9.0      4   \n",
      "542                  Andersson, Miss. Sigrid Elisabeth  female  11.0      4   \n",
      "610  Andersson, Mrs. Anders Johan (Alfrida Konstant...  female  39.0      1   \n",
      "813                 Andersson, Miss. Ebba Iris Alfrida  female   6.0      4   \n",
      "850            Andersson, Master. Sigvard Harald Elias    male   4.0      4   \n",
      "\n",
      "     Parch  Ticket    Fare Cabin Embarked  \n",
      "13       5  347082  31.275   NaN        S  \n",
      "119      2  347082  31.275   NaN        S  \n",
      "541      2  347082  31.275   NaN        S  \n",
      "542      2  347082  31.275   NaN        S  \n",
      "610      5  347082  31.275   NaN        S  \n",
      "813      2  347082  31.275   NaN        S  \n",
      "850      2  347082  31.275   NaN        S  \n"
     ]
    }
   ],
   "source": [
    "#Verify passengers with the same ticket values\n",
    "print(train_df[train_df[\"Ticket\"] == '347082'])"
   ]
  },
  {
   "cell_type": "code",
   "execution_count": 27,
   "metadata": {},
   "outputs": [
    {
     "name": "stdout",
     "output_type": "stream",
     "text": [
      "     PassengerId  Survived  Pclass  \\\n",
      "380          381         1       1   \n",
      "557          558         0       1   \n",
      "700          701         1       1   \n",
      "716          717         1       1   \n",
      "\n",
      "                                                  Name     Sex   Age  SibSp  \\\n",
      "380                              Bidois, Miss. Rosalie  female  42.0      0   \n",
      "557                                Robbins, Mr. Victor    male   NaN      0   \n",
      "700  Astor, Mrs. John Jacob (Madeleine Talmadge Force)  female  18.0      1   \n",
      "716                      Endres, Miss. Caroline Louise  female  38.0      0   \n",
      "\n",
      "     Parch    Ticket     Fare    Cabin Embarked  \n",
      "380      0  PC 17757  227.525      NaN        C  \n",
      "557      0  PC 17757  227.525      NaN        C  \n",
      "700      0  PC 17757  227.525  C62 C64        C  \n",
      "716      0  PC 17757  227.525      C45        C  \n"
     ]
    }
   ],
   "source": [
    "#Verify passengers with the same ticket values\n",
    "print(train_df[train_df[\"Ticket\"] == 'PC 17757'])"
   ]
  },
  {
   "cell_type": "markdown",
   "metadata": {},
   "source": [
    "O número do ticket não é único por passageiro, como era esperado. A menor quantidade de valores para os tickets também não se deve a presença de missing values, como é possível ver a partir da contagem de valores faltantes.\n",
    "\n",
    "Investiga-se então os passageiros que possuem um mesmo valor de Ticket. Para alguns destes valores, os passageiros parecem pertencer à mesma família, o que não é verdade para outros. O valor pago por um Ticket de mesma numeração é o mesmo para todos os passageiros, sendo esse o compartamento esperado.\n",
    "\n",
    "Esta inconsistência leva a acreditar que este não seja um campo relevante para a predição. A confirmação desta observação só poderá ocorrer após a realização de testes e treinamentos de modelos.\n",
    "\n",
    "Para usa este tipo de dado em um modelo, podemos trata-lo como dado categórico ou ainda realizar um tratamento de texto com a remoção de certos caracteres ou a criação de novas features (separando letras de dígitos, por exemplo)."
   ]
  },
  {
   "cell_type": "markdown",
   "metadata": {},
   "source": [
    "#### Fare\n",
    "Fare representa o valor pago pelo passageiro pelo Ticket."
   ]
  },
  {
   "cell_type": "code",
   "execution_count": 28,
   "metadata": {},
   "outputs": [
    {
     "name": "stdout",
     "output_type": "stream",
     "text": [
      "8.0500      0.048260\n",
      "13.0000     0.047138\n",
      "7.8958      0.042649\n",
      "7.7500      0.038159\n",
      "26.0000     0.034792\n",
      "10.5000     0.026936\n",
      "7.9250      0.020202\n",
      "7.7750      0.017957\n",
      "26.5500     0.016835\n",
      "0.0000      0.016835\n",
      "7.2292      0.016835\n",
      "7.8542      0.014590\n",
      "8.6625      0.014590\n",
      "7.2500      0.014590\n",
      "7.2250      0.013468\n",
      "16.1000     0.010101\n",
      "9.5000      0.010101\n",
      "24.1500     0.008979\n",
      "15.5000     0.008979\n",
      "56.4958     0.007856\n",
      "52.0000     0.007856\n",
      "14.5000     0.007856\n",
      "14.4542     0.007856\n",
      "69.5500     0.007856\n",
      "7.0500      0.007856\n",
      "31.2750     0.007856\n",
      "46.9000     0.006734\n",
      "30.0000     0.006734\n",
      "7.7958      0.006734\n",
      "39.6875     0.006734\n",
      "              ...   \n",
      "7.1417      0.001122\n",
      "42.4000     0.001122\n",
      "211.5000    0.001122\n",
      "12.2750     0.001122\n",
      "61.1750     0.001122\n",
      "8.4333      0.001122\n",
      "51.4792     0.001122\n",
      "7.8875      0.001122\n",
      "8.6833      0.001122\n",
      "7.5208      0.001122\n",
      "34.6542     0.001122\n",
      "28.7125     0.001122\n",
      "25.5875     0.001122\n",
      "7.7292      0.001122\n",
      "12.2875     0.001122\n",
      "8.6542      0.001122\n",
      "8.7125      0.001122\n",
      "61.3792     0.001122\n",
      "6.9500      0.001122\n",
      "9.8417      0.001122\n",
      "8.3000      0.001122\n",
      "13.7917     0.001122\n",
      "9.4750      0.001122\n",
      "13.4167     0.001122\n",
      "26.3875     0.001122\n",
      "8.4583      0.001122\n",
      "9.8375      0.001122\n",
      "8.3625      0.001122\n",
      "14.1083     0.001122\n",
      "17.4000     0.001122\n",
      "Name: Fare, Length: 248, dtype: float64\n"
     ]
    },
    {
     "data": {
      "text/plain": [
       "<matplotlib.axes._subplots.AxesSubplot at 0x1a1a9b2a90>"
      ]
     },
     "execution_count": 28,
     "metadata": {},
     "output_type": "execute_result"
    },
    {
     "data": {
      "image/png": "[encoded data removed]",
      "text/plain": [
       "<Figure size 432x288 with 1 Axes>"
      ]
     },
     "metadata": {
      "needs_background": "light"
     },
     "output_type": "display_data"
    }
   ],
   "source": [
    "#Verify Distribution\n",
    "print(train_df[\"Fare\"].value_counts(normalize=True, dropna=False))\n",
    "sns.distplot(train_df[\"Fare\"].dropna())"
   ]
  },
  {
   "cell_type": "code",
   "execution_count": 29,
   "metadata": {},
   "outputs": [
    {
     "name": "stdout",
     "output_type": "stream",
     "text": [
      "0\n"
     ]
    }
   ],
   "source": [
    "#Count missing values\n",
    "print(train_df[\"Fare\"].isna().sum())"
   ]
  },
  {
   "cell_type": "markdown",
   "metadata": {},
   "source": [
    "Fare já é um valor numérico com uma relação sequencial entre seus valores e por isso não necessita de mais tratamentos. Também não possui missing values."
   ]
  },
  {
   "cell_type": "markdown",
   "metadata": {},
   "source": [
    "#### Cabin\n",
    "Fare representa a cabine atribuída ao passageiro."
   ]
  },
  {
   "cell_type": "code",
   "execution_count": 30,
   "metadata": {},
   "outputs": [
    {
     "name": "stdout",
     "output_type": "stream",
     "text": [
      "NaN            0.771044\n",
      "B96 B98        0.004489\n",
      "C23 C25 C27    0.004489\n",
      "G6             0.004489\n",
      "C22 C26        0.003367\n",
      "F2             0.003367\n",
      "F33            0.003367\n",
      "D              0.003367\n",
      "E101           0.003367\n",
      "C125           0.002245\n",
      "C126           0.002245\n",
      "E33            0.002245\n",
      "B51 B53 B55    0.002245\n",
      "C68            0.002245\n",
      "E121           0.002245\n",
      "E67            0.002245\n",
      "B77            0.002245\n",
      "B49            0.002245\n",
      "B20            0.002245\n",
      "D26            0.002245\n",
      "E8             0.002245\n",
      "C93            0.002245\n",
      "C92            0.002245\n",
      "E24            0.002245\n",
      "E25            0.002245\n",
      "C83            0.002245\n",
      "F G73          0.002245\n",
      "C52            0.002245\n",
      "D36            0.002245\n",
      "C124           0.002245\n",
      "                 ...   \n",
      "C49            0.001122\n",
      "B71            0.001122\n",
      "B38            0.001122\n",
      "A23            0.001122\n",
      "E38            0.001122\n",
      "B82 B84        0.001122\n",
      "D11            0.001122\n",
      "A26            0.001122\n",
      "C128           0.001122\n",
      "E46            0.001122\n",
      "B78            0.001122\n",
      "C70            0.001122\n",
      "B80            0.001122\n",
      "C90            0.001122\n",
      "C87            0.001122\n",
      "C82            0.001122\n",
      "C45            0.001122\n",
      "B37            0.001122\n",
      "D7             0.001122\n",
      "C32            0.001122\n",
      "F E69          0.001122\n",
      "A24            0.001122\n",
      "A19            0.001122\n",
      "B19            0.001122\n",
      "F38            0.001122\n",
      "C91            0.001122\n",
      "D21            0.001122\n",
      "D50            0.001122\n",
      "B4             0.001122\n",
      "C62 C64        0.001122\n",
      "Name: Cabin, Length: 148, dtype: float64\n"
     ]
    }
   ],
   "source": [
    "#Take a look at the data\n",
    "print(train_df[\"Cabin\"].value_counts(normalize=True, dropna=False))"
   ]
  },
  {
   "cell_type": "markdown",
   "metadata": {},
   "source": [
    "77% dos passageiros no conjunto de treinamento não possuem informação em relação à cabine em que estavam. \n",
    "\n",
    "Quando a maior parte da instâncias não possuem um valor para determinado atributo, é plausível questionar a utilidade de incluí-lo no treinamento do modelo. Por conter uma grande quantidade de missing values, é possível que a feature não traga informacão útil ou até mesmo adicione ruído aos dados, onerando o resultado final. \n",
    "\n",
    "O volume de missing values também dificulta o preenchimento dos campos faltantes caso a feature seja utilizada."
   ]
  },
  {
   "cell_type": "markdown",
   "metadata": {},
   "source": [
    "#### Embarked\n",
    "Embarked representa o porto de onde o passageiro embarcou."
   ]
  },
  {
   "cell_type": "code",
   "execution_count": 31,
   "metadata": {},
   "outputs": [
    {
     "name": "stdout",
     "output_type": "stream",
     "text": [
      "S      0.722783\n",
      "C      0.188552\n",
      "Q      0.086420\n",
      "NaN    0.002245\n",
      "Name: Embarked, dtype: float64\n"
     ]
    }
   ],
   "source": [
    "#Verify Distribution\n",
    "print(train_df[\"Embarked\"].value_counts(normalize=True, dropna=False))"
   ]
  },
  {
   "cell_type": "markdown",
   "metadata": {},
   "source": [
    "Esta é uma variável categórica que possui missing values. \n",
    "\n",
    "O encoding do atributo se dá da mesma maneira que para a feature Sex.\n",
    "\n",
    "O preenchimento dos missing values pode ser feito de mais de uma forma:\n",
    "* Atribuindo o valor mais frequente\n",
    "* Escolhendo um valor aleatório entre os disponíveis, onde a probabilidade de um valor ser escolhido corresponde a porcentagem que ele representa no conjunto de treinamento."
   ]
  },
  {
   "cell_type": "markdown",
   "metadata": {},
   "source": [
    "## Feature Engineering\n",
    "---\n",
    "Feature Engineering é uma atividade que consiste em criar ou transformar features baseando-se nas que já existem.\n",
    "Pode ser feito combinando dois ou mais atributos ou ainda modificando atributos que já existem. \n",
    "\n",
    "Esta etapa do processo não será apresentada de forma detalhada."
   ]
  },
  {
   "cell_type": "markdown",
   "metadata": {},
   "source": [
    "## Outlier Removal\n",
    "---"
   ]
  },
  {
   "cell_type": "markdown",
   "metadata": {},
   "source": [
    "## Data Analysis\n",
    "---"
   ]
  },
  {
   "cell_type": "code",
   "execution_count": null,
   "metadata": {},
   "outputs": [],
   "source": []
  }
 ],
 "metadata": {
  "kernelspec": {
   "display_name": "Python 3",
   "language": "python",
   "name": "python3"
  },
  "language_info": {
   "codemirror_mode": {
    "name": "ipython",
    "version": 3
   },
   "file_extension": ".py",
   "mimetype": "text/x-python",
   "name": "python",
   "nbconvert_exporter": "python",
   "pygments_lexer": "ipython3",
   "version": "3.7.2"
  }
 },
 "nbformat": 4,
 "nbformat_minor": 2
}
